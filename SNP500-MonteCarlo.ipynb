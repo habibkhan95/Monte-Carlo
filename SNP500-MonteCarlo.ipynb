{
 "cells": [
  {
   "cell_type": "code",
   "execution_count": 14,
   "metadata": {},
   "outputs": [
    {
     "data": {
      "text/plain": [
       "'en_GB.UTF-8'"
      ]
     },
     "execution_count": 14,
     "metadata": {},
     "output_type": "execute_result"
    }
   ],
   "source": [
    "# importing necessary libraries \n",
    "import numpy as np\n",
    "from pandas import Series, DataFrame\n",
    "%matplotlib inline\n",
    "import matplotlib.pyplot as plots  \n",
    "import locale\n",
    "locale.setlocale(locale.LC_ALL, '')"
   ]
  },
  {
   "cell_type": "code",
   "execution_count": 18,
   "metadata": {},
   "outputs": [
    {
     "name": "stdout",
     "output_type": "stream",
     "text": [
      "£20,700.00\n",
      "£32,149.00\n",
      "£44,399.43\n",
      "£57,507.39\n",
      "£71,532.91\n",
      "£86,540.21\n",
      "£102,598.03\n",
      "£119,779.89\n",
      "£138,164.48\n",
      "£157,835.99\n",
      "£178,884.51\n",
      "£201,406.43\n",
      "£225,504.88\n",
      "£251,290.22\n",
      "£278,880.54\n",
      "£308,402.17\n",
      "£339,990.33\n",
      "£373,789.65\n",
      "£409,954.92\n",
      "£448,651.77\n",
      "£490,057.39\n",
      "£534,361.41\n",
      "£581,766.71\n",
      "£632,490.38\n",
      "£686,764.70\n",
      "£744,838.23\n",
      "£806,976.91\n",
      "£873,465.29\n",
      "£944,607.86\n",
      "£1,020,730.41\n"
     ]
    }
   ],
   "source": [
    "# static portfolio model over a period of time in years \n",
    "\n",
    "investment_value = 10000\n",
    "time_period = 30\n",
    "avg_return = .07\n",
    "eoy_investment_addition = 10000\n",
    "\n",
    "for year in range(time_period):\n",
    "    year_ending = investment_value * (1+avg_return) + eoy_investment_addition\n",
    "    print(locale.currency(year_ending, grouping=True))\n",
    "    investment_value = year_ending"
   ]
  },
  {
   "cell_type": "code",
   "execution_count": 29,
   "metadata": {},
   "outputs": [
    {
     "name": "stdout",
     "output_type": "stream",
     "text": [
      "\tMC Rate of Return \t\tYear Ending Portfolio\n",
      "\t-0.0097               \t£19,902.94\n",
      "\t-0.1144               \t£27,626.73\n",
      "\t0.1771               \t£42,519.98\n",
      "\t0.0897               \t£56,332.73\n",
      "\t0.1482               \t£74,681.30\n",
      "\t-0.0072               \t£84,147.12\n",
      "\t0.1991               \t£110,896.96\n",
      "\t0.2998               \t£154,149.19\n",
      "\t0.0772               \t£176,049.41\n",
      "\t-0.2257               \t£146,316.98\n",
      "\t-0.009               \t£155,006.01\n",
      "\t-0.0036               \t£164,443.40\n",
      "\t-0.2615               \t£131,446.43\n",
      "\t0.035               \t£146,041.58\n",
      "\t0.1257               \t£174,397.51\n",
      "\t-0.2906               \t£133,717.69\n",
      "\t0.0824               \t£154,735.38\n",
      "\t-0.0408               \t£158,423.10\n",
      "\t0.1576               \t£193,389.45\n",
      "\t0.1152               \t£225,676.32\n",
      "\t0.1665               \t£273,249.97\n",
      "\t0.3849               \t£388,430.19\n",
      "\t0.1473               \t£455,648.16\n",
      "\t0.1702               \t£543,185.16\n",
      "\t0.0374               \t£573,497.36\n",
      "\t0.1764               \t£684,689.60\n",
      "\t0.0928               \t£758,233.76\n",
      "\t0.081               \t£829,626.10\n",
      "\t0.1811               \t£989,863.62\n",
      "\t0.0632               \t£1,062,471.70\n"
     ]
    }
   ],
   "source": [
    "# using a monte carlo model to predict future value of a portfolio based on historic data \n",
    "# you will need to find out the following of a portfolio: expected return and volatility (preferably yearly basis)\n",
    "\n",
    "investment_value = 10000\n",
    "time_period = 30\n",
    "expected_return = .09\n",
    "volatility = .18\n",
    "eoy_investment_addition = 10000\n",
    "\n",
    "print(\"\\tMC Rate of Return\", \"\\t\\tYear Ending Portfolio\")\n",
    "for years in range(time_period):\n",
    "    montecarlo_ror_rand = np.random.normal(expected_return, volatility)\n",
    "    future_value = investment_value * (1 + montecarlo_ror_rand) + eoy_investment_addition\n",
    "    investment_value = future_value\n",
    "    print(\"\\t{}\".ljust(10).format(round(montecarlo_ror_rand,4)), \"\\t{}\".rjust(10).format(locale.currency(future_value, grouping=True)))\n",
    "    \n",
    "    \n",
    "    # this is just one iteration of the Monte-Carlo simulation. \n",
    "    #For it become more effective, we will need to repeat the process above multiple times to make a better\n",
    "    #future prediction. \n"
   ]
  },
  {
   "cell_type": "code",
   "execution_count": 59,
   "metadata": {},
   "outputs": [
    {
     "name": "stdout",
     "output_type": "stream",
     "text": [
      "          0       1        2       3        4\n",
      "0     22176   21684    21895   21980    21214\n",
      "1     35007   34046    30000   31025    33535\n",
      "2     49039   48435    48661   46297    44811\n",
      "3     63692   54497    58315   58178    47604\n",
      "4     68838   67366    60852   76298    73434\n",
      "5     84857   85670    83060   99088    64675\n",
      "6     93403  105570    80724  104011    79340\n",
      "7    116924  123724    91100  114343    85960\n",
      "8    138018  193658    86025  142210   137242\n",
      "9    167625  200011   113865  150401   162825\n",
      "10   223861  203847   130621  156509   223658\n",
      "11   267168  260217   181651  166741   205390\n",
      "12   292560  221880   203831  203494   285908\n",
      "13   349953  253272   240228  245828   328610\n",
      "14   440800  303772   279518  166585   428029\n",
      "15   632876  234618   330053  217255   398149\n",
      "16   655516  261709   349105  174021   478719\n",
      "17   692755  238226   377720  232247   496231\n",
      "18   734313  324735   463039  255539   453439\n",
      "19   676823  388339   542349  262834   493051\n",
      "20   783540  374717   530566  331125   679193\n",
      "21   824435  441315   643060  309439   630805\n",
      "22   795782  453103   659718  372760   552431\n",
      "23   811924  495664   876626  414069   671828\n",
      "24   911225  619859   704397  368940   680789\n",
      "25  1083232  747568   771240  467315   895413\n",
      "26  1037113  542132   808168  564779  1049244\n",
      "27  1114379  616422  1026598  634649  1213918\n",
      "28  1349185  466651  1122214  831317  1202996\n",
      "29  1709772  647505  1522039  788846  1258170\n"
     ]
    },
    {
     "ename": "TypeError",
     "evalue": "cannot convert the series to <class 'float'>",
     "output_type": "error",
     "traceback": [
      "\u001b[0;31m---------------------------------------------------------------------------\u001b[0m",
      "\u001b[0;31mTypeError\u001b[0m                                 Traceback (most recent call last)",
      "\u001b[0;32m<ipython-input-59-06d62bd60110>\u001b[0m in \u001b[0;36m<module>\u001b[0;34m\u001b[0m\n\u001b[1;32m     25\u001b[0m \u001b[0mprint\u001b[0m\u001b[0;34m(\u001b[0m\u001b[0msimulation\u001b[0m\u001b[0;34m[\u001b[0m\u001b[0mlist\u001b[0m\u001b[0;34m(\u001b[0m\u001b[0mrange\u001b[0m\u001b[0;34m(\u001b[0m\u001b[0;36m5\u001b[0m\u001b[0;34m)\u001b[0m\u001b[0;34m)\u001b[0m\u001b[0;34m]\u001b[0m\u001b[0;34m)\u001b[0m\u001b[0;34m\u001b[0m\u001b[0m\n\u001b[1;32m     26\u001b[0m \u001b[0;34m\u001b[0m\u001b[0m\n\u001b[0;32m---> 27\u001b[0;31m \u001b[0mmean\u001b[0m \u001b[0;34m=\u001b[0m \u001b[0mlocale\u001b[0m\u001b[0;34m.\u001b[0m\u001b[0mcurrency\u001b[0m\u001b[0;34m(\u001b[0m\u001b[0mnp\u001b[0m\u001b[0;34m.\u001b[0m\u001b[0mmean\u001b[0m\u001b[0;34m(\u001b[0m\u001b[0msimulation\u001b[0m\u001b[0;34m)\u001b[0m\u001b[0;34m,\u001b[0m\u001b[0mgrouping\u001b[0m\u001b[0;34m=\u001b[0m\u001b[0;32mTrue\u001b[0m\u001b[0;34m)\u001b[0m\u001b[0;34m\u001b[0m\u001b[0m\n\u001b[0m\u001b[1;32m     28\u001b[0m \u001b[0;34m\u001b[0m\u001b[0m\n\u001b[1;32m     29\u001b[0m \u001b[0;34m\u001b[0m\u001b[0m\n",
      "\u001b[0;32m/usr/local/Cellar/python/3.7.0/Frameworks/Python.framework/Versions/3.7/lib/python3.7/locale.py\u001b[0m in \u001b[0;36mcurrency\u001b[0;34m(val, symbol, grouping, international)\u001b[0m\n\u001b[1;32m    268\u001b[0m                          \"the 'C' locale.\")\n\u001b[1;32m    269\u001b[0m \u001b[0;34m\u001b[0m\u001b[0m\n\u001b[0;32m--> 270\u001b[0;31m     \u001b[0ms\u001b[0m \u001b[0;34m=\u001b[0m \u001b[0m_format\u001b[0m\u001b[0;34m(\u001b[0m\u001b[0;34m'%%.%if'\u001b[0m \u001b[0;34m%\u001b[0m \u001b[0mdigits\u001b[0m\u001b[0;34m,\u001b[0m \u001b[0mabs\u001b[0m\u001b[0;34m(\u001b[0m\u001b[0mval\u001b[0m\u001b[0;34m)\u001b[0m\u001b[0;34m,\u001b[0m \u001b[0mgrouping\u001b[0m\u001b[0;34m,\u001b[0m \u001b[0mmonetary\u001b[0m\u001b[0;34m=\u001b[0m\u001b[0;32mTrue\u001b[0m\u001b[0;34m)\u001b[0m\u001b[0;34m\u001b[0m\u001b[0m\n\u001b[0m\u001b[1;32m    271\u001b[0m     \u001b[0;31m# '<' and '>' are markers if the sign must be inserted between symbol and value\u001b[0m\u001b[0;34m\u001b[0m\u001b[0;34m\u001b[0m\u001b[0m\n\u001b[1;32m    272\u001b[0m     \u001b[0ms\u001b[0m \u001b[0;34m=\u001b[0m \u001b[0;34m'<'\u001b[0m \u001b[0;34m+\u001b[0m \u001b[0ms\u001b[0m \u001b[0;34m+\u001b[0m \u001b[0;34m'>'\u001b[0m\u001b[0;34m\u001b[0m\u001b[0m\n",
      "\u001b[0;32m/usr/local/Cellar/python/3.7.0/Frameworks/Python.framework/Versions/3.7/lib/python3.7/locale.py\u001b[0m in \u001b[0;36m_format\u001b[0;34m(percent, value, grouping, monetary, *additional)\u001b[0m\n\u001b[1;32m    185\u001b[0m         \u001b[0mformatted\u001b[0m \u001b[0;34m=\u001b[0m \u001b[0mpercent\u001b[0m \u001b[0;34m%\u001b[0m \u001b[0;34m(\u001b[0m\u001b[0;34m(\u001b[0m\u001b[0mvalue\u001b[0m\u001b[0;34m,\u001b[0m\u001b[0;34m)\u001b[0m \u001b[0;34m+\u001b[0m \u001b[0madditional\u001b[0m\u001b[0;34m)\u001b[0m\u001b[0;34m\u001b[0m\u001b[0m\n\u001b[1;32m    186\u001b[0m     \u001b[0;32melse\u001b[0m\u001b[0;34m:\u001b[0m\u001b[0;34m\u001b[0m\u001b[0m\n\u001b[0;32m--> 187\u001b[0;31m         \u001b[0mformatted\u001b[0m \u001b[0;34m=\u001b[0m \u001b[0mpercent\u001b[0m \u001b[0;34m%\u001b[0m \u001b[0mvalue\u001b[0m\u001b[0;34m\u001b[0m\u001b[0m\n\u001b[0m\u001b[1;32m    188\u001b[0m     \u001b[0;31m# floats and decimal ints need special action!\u001b[0m\u001b[0;34m\u001b[0m\u001b[0;34m\u001b[0m\u001b[0m\n\u001b[1;32m    189\u001b[0m     \u001b[0;32mif\u001b[0m \u001b[0mpercent\u001b[0m\u001b[0;34m[\u001b[0m\u001b[0;34m-\u001b[0m\u001b[0;36m1\u001b[0m\u001b[0;34m]\u001b[0m \u001b[0;32min\u001b[0m \u001b[0;34m'eEfFgG'\u001b[0m\u001b[0;34m:\u001b[0m\u001b[0;34m\u001b[0m\u001b[0m\n",
      "\u001b[0;32m/usr/local/lib/python3.7/site-packages/pandas/core/series.py\u001b[0m in \u001b[0;36mwrapper\u001b[0;34m(self)\u001b[0m\n\u001b[1;32m    116\u001b[0m             \u001b[0;32mreturn\u001b[0m \u001b[0mconverter\u001b[0m\u001b[0;34m(\u001b[0m\u001b[0mself\u001b[0m\u001b[0;34m.\u001b[0m\u001b[0miloc\u001b[0m\u001b[0;34m[\u001b[0m\u001b[0;36m0\u001b[0m\u001b[0;34m]\u001b[0m\u001b[0;34m)\u001b[0m\u001b[0;34m\u001b[0m\u001b[0m\n\u001b[1;32m    117\u001b[0m         raise TypeError(\"cannot convert the series to \"\n\u001b[0;32m--> 118\u001b[0;31m                         \"{0}\".format(str(converter)))\n\u001b[0m\u001b[1;32m    119\u001b[0m \u001b[0;34m\u001b[0m\u001b[0m\n\u001b[1;32m    120\u001b[0m     \u001b[0;32mreturn\u001b[0m \u001b[0mwrapper\u001b[0m\u001b[0;34m\u001b[0m\u001b[0m\n",
      "\u001b[0;31mTypeError\u001b[0m: cannot convert the series to <class 'float'>"
     ]
    }
   ],
   "source": [
    "# Implementing Monte-Carlo simulation with iterations\n",
    "\n",
    "simulation = DataFrame()\n",
    "iterations = 5000\n",
    "\n",
    "\n",
    "for i in range(iterations):\n",
    "    investment_value = 10000\n",
    "    time_period = 30\n",
    "    expected_return = .09\n",
    "    volatility = .18\n",
    "    eoy_investment_addition = 10000\n",
    "    stream = []\n",
    "    for j in range(time_period):\n",
    "        year_ending_value = round(investment_value * (1 + np.random.normal(expected_return,volatility)) + eoy_investment_addition)\n",
    "        \n",
    "        stream.append(year_ending_value)\n",
    "        \n",
    "        investment_value = year_ending_value\n",
    "\n",
    "    simulation[i] = stream\n",
    "    \n",
    "    \n",
    "    \n",
    "print(simulation[list(range(5))])\n",
    "\n",
    "\n",
    "    \n",
    "    "
   ]
  },
  {
   "cell_type": "code",
   "execution_count": 61,
   "metadata": {},
   "outputs": [
    {
     "data": {
      "text/plain": [
       "[<matplotlib.lines.Line2D at 0x1257ac390>,\n",
       " <matplotlib.lines.Line2D at 0x1257ac4e0>,\n",
       " <matplotlib.lines.Line2D at 0x1257ac630>,\n",
       " <matplotlib.lines.Line2D at 0x1257ac780>,\n",
       " <matplotlib.lines.Line2D at 0x1257ac8d0>,\n",
       " <matplotlib.lines.Line2D at 0x1257aca20>,\n",
       " <matplotlib.lines.Line2D at 0x1257acb70>,\n",
       " <matplotlib.lines.Line2D at 0x1257accc0>,\n",
       " <matplotlib.lines.Line2D at 0x1257ace10>,\n",
       " <matplotlib.lines.Line2D at 0x1257acf60>]"
      ]
     },
     "execution_count": 61,
     "metadata": {},
     "output_type": "execute_result"
    },
    {
     "data": {
      "image/png": "[encoded data removed]",
      "text/plain": [
       "<Figure size 432x288 with 1 Axes>"
      ]
     },
     "metadata": {
      "needs_background": "light"
     },
     "output_type": "display_data"
    }
   ],
   "source": [
    "# to visually plot the results of the simulation \n",
    "\n",
    "plots.plot(simulation[list(range(10))])"
   ]
  },
  {
   "cell_type": "code",
   "execution_count": 69,
   "metadata": {},
   "outputs": [
    {
     "name": "stdout",
     "output_type": "stream",
     "text": [
      "Iterations: 5000\n",
      "Mean: £1,486,182.37\n",
      "SD: £1,154,686.20\n"
     ]
    },
    {
     "data": {
      "text/plain": [
       "count    5.000000e+03\n",
       "mean     1.486182e+06\n",
       "std      1.154802e+06\n",
       "min      1.299920e+05\n",
       "25%      7.596148e+05\n",
       "50%      1.160766e+06\n",
       "75%      1.864439e+06\n",
       "max      1.441750e+07\n",
       "Name: 29, dtype: float64"
      ]
     },
     "execution_count": 69,
     "metadata": {},
     "output_type": "execute_result"
    }
   ],
   "source": [
    "# Gathering statistics from the simulation\n",
    "print(\"Iterations:\", len(simulation.loc[29]))\n",
    "print(\"Mean:\", locale.currency(np.mean(simulation.loc[29]),grouping=True))\n",
    "print(\"SD:\", locale.currency(np.std(simulation.loc[29]),grouping=True))\n",
    "# max, min, modal etc.\n",
    "\n",
    "#Using pandas built-in stats method\n",
    "results = simulation.loc[29]\n",
    "results.describe()"
   ]
  },
  {
   "cell_type": "code",
   "execution_count": 75,
   "metadata": {},
   "outputs": [
    {
     "data": {
      "text/plain": [
       "(array([ 58., 236., 360., 422., 484., 436., 424., 354., 329., 239., 205.,\n",
       "        179., 169., 151., 134.,  82.,  86.,  85.,  71.,  51.,  49.,  45.,\n",
       "         53.,  31.,  28.,  28.,  27.,  17.,  27.,  16.,  16.,  10.,   7.,\n",
       "          8.,  10.,   7.,   8.,   6.,   3.,   2.,   5.,   3.,   3.,   2.,\n",
       "          4.,   2.,   1.,   3.,   1.,   3.,   1.,   0.,   2.,   0.,   1.,\n",
       "          0.,   1.,   2.,   2.,   1.,   0.,   1.,   0.,   0.,   0.,   1.,\n",
       "          2.,   0.,   0.,   0.,   0.,   1.,   0.,   0.,   0.,   0.,   0.,\n",
       "          0.,   1.,   1.,   0.,   0.,   0.,   0.,   0.,   0.,   0.,   0.,\n",
       "          1.,   0.,   0.,   1.,   0.,   0.,   0.,   0.,   0.,   0.,   0.,\n",
       "          1.]),\n",
       " array([  129992.  ,   272867.05,   415742.1 ,   558617.15,   701492.2 ,\n",
       "          844367.25,   987242.3 ,  1130117.35,  1272992.4 ,  1415867.45,\n",
       "         1558742.5 ,  1701617.55,  1844492.6 ,  1987367.65,  2130242.7 ,\n",
       "         2273117.75,  2415992.8 ,  2558867.85,  2701742.9 ,  2844617.95,\n",
       "         2987493.  ,  3130368.05,  3273243.1 ,  3416118.15,  3558993.2 ,\n",
       "         3701868.25,  3844743.3 ,  3987618.35,  4130493.4 ,  4273368.45,\n",
       "         4416243.5 ,  4559118.55,  4701993.6 ,  4844868.65,  4987743.7 ,\n",
       "         5130618.75,  5273493.8 ,  5416368.85,  5559243.9 ,  5702118.95,\n",
       "         5844994.  ,  5987869.05,  6130744.1 ,  6273619.15,  6416494.2 ,\n",
       "         6559369.25,  6702244.3 ,  6845119.35,  6987994.4 ,  7130869.45,\n",
       "         7273744.5 ,  7416619.55,  7559494.6 ,  7702369.65,  7845244.7 ,\n",
       "         7988119.75,  8130994.8 ,  8273869.85,  8416744.9 ,  8559619.95,\n",
       "         8702495.  ,  8845370.05,  8988245.1 ,  9131120.15,  9273995.2 ,\n",
       "         9416870.25,  9559745.3 ,  9702620.35,  9845495.4 ,  9988370.45,\n",
       "        10131245.5 , 10274120.55, 10416995.6 , 10559870.65, 10702745.7 ,\n",
       "        10845620.75, 10988495.8 , 11131370.85, 11274245.9 , 11417120.95,\n",
       "        11559996.  , 11702871.05, 11845746.1 , 11988621.15, 12131496.2 ,\n",
       "        12274371.25, 12417246.3 , 12560121.35, 12702996.4 , 12845871.45,\n",
       "        12988746.5 , 13131621.55, 13274496.6 , 13417371.65, 13560246.7 ,\n",
       "        13703121.75, 13845996.8 , 13988871.85, 14131746.9 , 14274621.95,\n",
       "        14417497.  ]),\n",
       " <a list of 100 Patch objects>)"
      ]
     },
     "execution_count": 75,
     "metadata": {},
     "output_type": "execute_result"
    },
    {
     "data": {
      "image/png": "[encoded data removed]",
      "text/plain": [
       "<Figure size 432x288 with 1 Axes>"
      ]
     },
     "metadata": {
      "needs_background": "light"
     },
     "output_type": "display_data"
    }
   ],
   "source": [
    "#plotting a histogram to view distribution \n",
    "plots.hist(results, bins=100)"
   ]
  },
  {
   "cell_type": "code",
   "execution_count": 81,
   "metadata": {},
   "outputs": [
    {
     "data": {
      "text/plain": [
       "59.260000000000005"
      ]
     },
     "execution_count": 81,
     "metadata": {},
     "output_type": "execute_result"
    }
   ],
   "source": [
    "#when dealing with portfolios, you would want to work out the probability \n",
    "#of acheiving an expected value. this will be usefull when making a decision\n",
    "\n",
    "#for example, what is the probability of acheiving £1m on this portfolio \n",
    "(len(results[results > 1000000]) / len(results)) * 100"
   ]
  },
  {
   "cell_type": "code",
   "execution_count": null,
   "metadata": {},
   "outputs": [],
   "source": []
  }
 ],
 "metadata": {
  "kernelspec": {
   "display_name": "Python 3",
   "language": "python",
   "name": "python3"
  },
  "language_info": {
   "codemirror_mode": {
    "name": "ipython",
    "version": 3
   },
   "file_extension": ".py",
   "mimetype": "text/x-python",
   "name": "python",
   "nbconvert_exporter": "python",
   "pygments_lexer": "ipython3",
   "version": "3.7.0"
  }
 },
 "nbformat": 4,
 "nbformat_minor": 2
}
